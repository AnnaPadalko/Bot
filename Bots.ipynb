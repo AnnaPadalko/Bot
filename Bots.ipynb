{
  "nbformat": 4,
  "nbformat_minor": 0,
  "metadata": {
    "colab": {
      "provenance": [],
      "collapsed_sections": []
    },
    "kernelspec": {
      "name": "python3",
      "display_name": "Python 3"
    },
    "language_info": {
      "name": "python"
    }
  },
  "cells": [
    {
      "cell_type": "code",
      "execution_count": null,
      "metadata": {
        "colab": {
          "base_uri": "https://localhost:8080/"
        },
        "id": "cTqI0R4HBtbv",
        "outputId": "f9e9e441-f575-4912-c68e-feecf3d53d26"
      },
      "outputs": [
        {
          "output_type": "stream",
          "name": "stdout",
          "text": [
            "\u001b[K     |████████████████████████████████| 1.9 MB 7.7 MB/s \n",
            "\u001b[K     |████████████████████████████████| 62 kB 1.5 MB/s \n",
            "\u001b[?25h"
          ]
        }
      ],
      "source": [
        "!pip install -q -U kaggle_environments"
      ]
    },
    {
      "cell_type": "code",
      "source": [
        "import numpy as np\n",
        "import pandas as pd\n",
        "import random\n",
        "\n",
        "import matplotlib.pyplot as plt\n",
        "import seaborn as sns\n",
        "\n",
        "from kaggle_environments import evaluate"
      ],
      "metadata": {
        "id": "IuA65QGLCS8I"
      },
      "execution_count": null,
      "outputs": []
    },
    {
      "cell_type": "code",
      "source": [
        "%%writefile rock_agent.py\n",
        "import random\n",
        "def rock_agent(observation, configuration):\n",
        "    return 0"
      ],
      "metadata": {
        "colab": {
          "base_uri": "https://localhost:8080/"
        },
        "id": "SUOAcYO8CYyV",
        "outputId": "c86d57b1-6e6e-45c0-eff6-ecefd98b5a55"
      },
      "execution_count": null,
      "outputs": [
        {
          "output_type": "stream",
          "name": "stdout",
          "text": [
            "Writing rock_agent.py\n"
          ]
        }
      ]
    },
    {
      "cell_type": "code",
      "source": [
        "evaluate(\n",
        "    \"rps\", \n",
        "    [\"rock_agent.py\",  \"statistical\"], \n",
        "    configuration={\"episodeSteps\": 100}  \n",
        ")\n"
      ],
      "metadata": {
        "colab": {
          "base_uri": "https://localhost:8080/"
        },
        "id": "pv0ZGJRfD5rg",
        "outputId": "398cc226-5f2a-40b4-dd23-a1597b130ae5"
      },
      "execution_count": null,
      "outputs": [
        {
          "output_type": "execute_result",
          "data": {
            "text/plain": [
              "[[-98.0, 98.0]]"
            ]
          },
          "metadata": {},
          "execution_count": 5
        }
      ]
    },
    {
      "cell_type": "code",
      "source": [
        "%%writefile paper_agent.py\n",
        "import random\n",
        "def paper_agent(observation, configuration):\n",
        "    return 1"
      ],
      "metadata": {
        "colab": {
          "base_uri": "https://localhost:8080/"
        },
        "id": "LEJRjmJIERY9",
        "outputId": "763aacd7-0aab-48bd-d127-16edc8de0fbe"
      },
      "execution_count": null,
      "outputs": [
        {
          "output_type": "stream",
          "name": "stdout",
          "text": [
            "Writing paper_agent.py\n"
          ]
        }
      ]
    },
    {
      "cell_type": "code",
      "source": [
        "evaluate(\n",
        "    \"rps\", \n",
        "    [\"paper_agent.py\",  \"statistical\"], \n",
        "    configuration={\"episodeSteps\": 100}  \n",
        ")"
      ],
      "metadata": {
        "colab": {
          "base_uri": "https://localhost:8080/"
        },
        "id": "DtHdNl4EEad9",
        "outputId": "90df34b5-c184-4cf7-fb7a-80e66e279c7b"
      },
      "execution_count": null,
      "outputs": [
        {
          "output_type": "execute_result",
          "data": {
            "text/plain": [
              "[[-97.0, 97.0]]"
            ]
          },
          "metadata": {},
          "execution_count": 7
        }
      ]
    },
    {
      "cell_type": "code",
      "source": [
        "%%writefile scissors_agent.py\n",
        "import random\n",
        "def scissors_agent(observation, configuration):\n",
        "    return 2"
      ],
      "metadata": {
        "colab": {
          "base_uri": "https://localhost:8080/"
        },
        "id": "y7U2N6NvE993",
        "outputId": "7ee94d83-9297-4d0b-c203-66a08261448c"
      },
      "execution_count": null,
      "outputs": [
        {
          "output_type": "stream",
          "name": "stdout",
          "text": [
            "Writing scissors_agent.py\n"
          ]
        }
      ]
    },
    {
      "cell_type": "code",
      "source": [
        "evaluate(\n",
        "    \"rps\", \n",
        "    [\"scissors_agent.py\",  \"statistical\"], \n",
        "    configuration={\"episodeSteps\": 100}  \n",
        ")"
      ],
      "metadata": {
        "colab": {
          "base_uri": "https://localhost:8080/"
        },
        "id": "SepdXwClFIRz",
        "outputId": "44dd576c-512c-4209-8046-e397883f6d85"
      },
      "execution_count": null,
      "outputs": [
        {
          "output_type": "execute_result",
          "data": {
            "text/plain": [
              "[[-99.0, 99.0]]"
            ]
          },
          "metadata": {},
          "execution_count": 9
        }
      ]
    },
    {
      "cell_type": "code",
      "source": [
        "%%writefile opp_last_turn.py\n",
        "import random\n",
        "def opp_last_turn (observation, configuration):\n",
        "  if observation.step > 0:\n",
        "    return int(observation.lastOpponentAction / 3)\n",
        "  else:\n",
        "    return random.randrange(0, configuration.signs)"
      ],
      "metadata": {
        "colab": {
          "base_uri": "https://localhost:8080/"
        },
        "id": "b-JwO9pCF3WW",
        "outputId": "b064f961-dfe5-421e-a2c6-6f8460596882"
      },
      "execution_count": null,
      "outputs": [
        {
          "output_type": "stream",
          "name": "stdout",
          "text": [
            "Writing opp_last_turn.py\n"
          ]
        }
      ]
    },
    {
      "cell_type": "code",
      "source": [
        "evaluate(\n",
        "    \"rps\", \n",
        "    [\"opp_last_turn.py\",  \"statistical\"], \n",
        "    configuration={\"episodeSteps\": 100}  \n",
        ")"
      ],
      "metadata": {
        "colab": {
          "base_uri": "https://localhost:8080/"
        },
        "id": "4PH5q7a9Giy1",
        "outputId": "496ab01c-71fc-4c1b-e094-88443e3c2070"
      },
      "execution_count": null,
      "outputs": [
        {
          "output_type": "execute_result",
          "data": {
            "text/plain": [
              "[[-93.0, 93.0]]"
            ]
          },
          "metadata": {},
          "execution_count": 11
        }
      ]
    },
    {
      "cell_type": "code",
      "source": [
        "%%writefile random_opponent.py\n",
        "import random\n",
        "def random_opponent (observation, configuration):\n",
        "    return random.randrange(random.randrange(0,2), 3)"
      ],
      "metadata": {
        "colab": {
          "base_uri": "https://localhost:8080/"
        },
        "id": "NUxth-kXK1_p",
        "outputId": "1fb1fc72-bd84-4ae0-e511-3ac7355289b3"
      },
      "execution_count": null,
      "outputs": [
        {
          "output_type": "stream",
          "name": "stdout",
          "text": [
            "Writing random_opponent.py\n"
          ]
        }
      ]
    },
    {
      "cell_type": "code",
      "source": [
        "evaluate(\n",
        "    \"rps\", \n",
        "    [\"random_opponent.py\",  \"statistical\"], \n",
        "    configuration={\"episodeSteps\": 100}  \n",
        ")"
      ],
      "metadata": {
        "colab": {
          "base_uri": "https://localhost:8080/"
        },
        "id": "jhqqh46eM65b",
        "outputId": "9c3c4884-41ec-4fbd-ac98-897cce10eacc"
      },
      "execution_count": null,
      "outputs": [
        {
          "output_type": "execute_result",
          "data": {
            "text/plain": [
              "[[-27.0, 27.0]]"
            ]
          },
          "metadata": {},
          "execution_count": 13
        }
      ]
    },
    {
      "cell_type": "code",
      "source": [
        "%%writefile step_rock.py\n",
        "import random\n",
        "def your_agent(observation, configuration):\n",
        "    if not observation.step%2: return 0\n",
        "    else: return random.choice([1, 2])"
      ],
      "metadata": {
        "colab": {
          "base_uri": "https://localhost:8080/"
        },
        "id": "uWBBcFr4bYaC",
        "outputId": "88da9632-5fde-4a6a-cfbf-b6b82c1ccf63"
      },
      "execution_count": null,
      "outputs": [
        {
          "output_type": "stream",
          "name": "stdout",
          "text": [
            "Writing step_rock.py\n"
          ]
        }
      ]
    },
    {
      "cell_type": "code",
      "source": [
        "evaluate(\n",
        "    \"rps\",\n",
        "    [\"step_rock.py\",  \"statistical\"], \n",
        "    configuration={\"episodeSteps\": 100}  \n",
        ")"
      ],
      "metadata": {
        "colab": {
          "base_uri": "https://localhost:8080/"
        },
        "id": "0b3O4BridkCY",
        "outputId": "963c82cb-a004-4694-a51c-e491cebb4d40"
      },
      "execution_count": null,
      "outputs": [
        {
          "output_type": "execute_result",
          "data": {
            "text/plain": [
              "[[-26.0, 26.0]]"
            ]
          },
          "metadata": {},
          "execution_count": 15
        }
      ]
    },
    {
      "cell_type": "code",
      "source": [
        "%%writefile rand_anti_opponent.py\n",
        "import random\n",
        "def rand_anti_opponent (observation, configuration):\n",
        "    if observation.step > 0:\n",
        "        for_action = [0,1,2]\n",
        "        for_action.remove(observation.lastOpponentAction)\n",
        "        return random.choice(for_action)\n",
        "    else:\n",
        "        return random.randrange(0, configuration.signs)\n"
      ],
      "metadata": {
        "colab": {
          "base_uri": "https://localhost:8080/"
        },
        "id": "mkqWW0dAgNnu",
        "outputId": "df71ea86-d021-4fb9-f317-c5936c4ea058"
      },
      "execution_count": null,
      "outputs": [
        {
          "output_type": "stream",
          "name": "stdout",
          "text": [
            "Writing rand_anti_opponent.py\n"
          ]
        }
      ]
    },
    {
      "cell_type": "code",
      "source": [
        "evaluate(\n",
        "    \"rps\", \n",
        "    [\"rand_anti_opponent.py\",  \"statistical\"], \n",
        "    configuration={\"episodeSteps\": 100}  \n",
        ")"
      ],
      "metadata": {
        "colab": {
          "base_uri": "https://localhost:8080/"
        },
        "id": "8BJTnOnXgiLV",
        "outputId": "b10cf9f7-5f6b-42a7-f6e8-297b8133879f"
      },
      "execution_count": null,
      "outputs": [
        {
          "output_type": "execute_result",
          "data": {
            "text/plain": [
              "[[0, 0]]"
            ]
          },
          "metadata": {},
          "execution_count": 17
        }
      ]
    },
    {
      "cell_type": "code",
      "source": [
        "%%writefile step_scissors.py\n",
        "import random\n",
        "def your_agent(observation, configuration):\n",
        "    if not observation.step%2: return 2\n",
        "    else: return random.choice([0, 1])"
      ],
      "metadata": {
        "colab": {
          "base_uri": "https://localhost:8080/"
        },
        "id": "t-2_anethPU6",
        "outputId": "c14ff6e4-0485-4467-f1b3-94430d0a3d2e"
      },
      "execution_count": null,
      "outputs": [
        {
          "output_type": "stream",
          "name": "stdout",
          "text": [
            "Writing step_scissors.py\n"
          ]
        }
      ]
    },
    {
      "cell_type": "code",
      "source": [
        "evaluate(\n",
        "    \"rps\", \n",
        "    [\"step_scissors.py\",  \"statistical\"], \n",
        "    configuration={\"episodeSteps\": 100}  \n",
        ")"
      ],
      "metadata": {
        "colab": {
          "base_uri": "https://localhost:8080/"
        },
        "id": "M-BFPNBlhlsb",
        "outputId": "707aae8a-0045-486e-9c22-f1dec6466b32"
      },
      "execution_count": null,
      "outputs": [
        {
          "output_type": "execute_result",
          "data": {
            "text/plain": [
              "[[-23.0, 23.0]]"
            ]
          },
          "metadata": {},
          "execution_count": 19
        }
      ]
    },
    {
      "cell_type": "code",
      "source": [
        "%%writefile step_paper.py\n",
        "import random\n",
        "def your_agent(observation, configuration):\n",
        "    if not observation.step%2: return 1\n",
        "    else: return random.choice([0, 2])\n"
      ],
      "metadata": {
        "colab": {
          "base_uri": "https://localhost:8080/"
        },
        "id": "uko14jD14Jgl",
        "outputId": "8bb34de5-bdf2-44e8-9e08-c8e0dfcc1b26"
      },
      "execution_count": null,
      "outputs": [
        {
          "output_type": "stream",
          "name": "stdout",
          "text": [
            "Writing step_paper.py\n"
          ]
        }
      ]
    },
    {
      "cell_type": "code",
      "source": [
        "evaluate(\n",
        "    \"rps\", \n",
        "    [\"step_paper.py\",  \"statistical\"], \n",
        "    configuration={\"episodeSteps\": 100}  \n",
        ")"
      ],
      "metadata": {
        "colab": {
          "base_uri": "https://localhost:8080/"
        },
        "id": "8qrQshwR4TNM",
        "outputId": "26bdadce-3ab8-4f79-8b58-ef00c87fac7f"
      },
      "execution_count": null,
      "outputs": [
        {
          "output_type": "execute_result",
          "data": {
            "text/plain": [
              "[[-22.0, 22.0]]"
            ]
          },
          "metadata": {},
          "execution_count": 21
        }
      ]
    },
    {
      "cell_type": "code",
      "source": [
        "%%writefile copynext_opponent.py\n",
        "import random\n",
        "def copynext_opponent(observation, configuration):\n",
        "    if observation.step > 0:\n",
        "        return (observation.lastOpponentAction + 1) % configuration.signs\n",
        "    else:\n",
        "        return random.randrange(0, configuration.signs)"
      ],
      "metadata": {
        "colab": {
          "base_uri": "https://localhost:8080/"
        },
        "id": "1QrGaj_LXTUl",
        "outputId": "35091695-b928-43f9-cf66-18324c13db3f"
      },
      "execution_count": null,
      "outputs": [
        {
          "output_type": "stream",
          "name": "stdout",
          "text": [
            "Writing copynext_opponent.py\n"
          ]
        }
      ]
    },
    {
      "cell_type": "code",
      "source": [
        "evaluate(\n",
        "    \"rps\", \n",
        "    [\"copynext_opponent.py\", \"statistical\"], \n",
        "    configuration={\"episodeSteps\": 100}, \n",
        ")"
      ],
      "metadata": {
        "colab": {
          "base_uri": "https://localhost:8080/"
        },
        "id": "fiJsMhCGXcWg",
        "outputId": "450b9bef-0854-49c0-c4cc-74ad739f6982"
      },
      "execution_count": null,
      "outputs": [
        {
          "output_type": "execute_result",
          "data": {
            "text/plain": [
              "[[49.0, -49.0]]"
            ]
          },
          "metadata": {},
          "execution_count": 35
        }
      ]
    },
    {
      "cell_type": "code",
      "source": [
        "%%writefile opposit_agent.py\n",
        "\n",
        "import random\n",
        "\n",
        "def opposit_agent(observation, configuration):\n",
        "    if observation.step > 0:\n",
        "        if observation.lastOpponentAction == 0:\n",
        "            return random.choice([1,2])\n",
        "        elif observation.lastOpponentAction == 1:\n",
        "            return random.choice([0,2])\n",
        "        else:\n",
        "            return random.choice([1,0])\n",
        "    else:\n",
        "        return random.randrange(0, configuration.signs)"
      ],
      "metadata": {
        "colab": {
          "base_uri": "https://localhost:8080/"
        },
        "id": "U1onhvZgXtDK",
        "outputId": "9bbfce7f-6e62-45eb-e0de-a684bfe45f66"
      },
      "execution_count": null,
      "outputs": [
        {
          "output_type": "stream",
          "name": "stdout",
          "text": [
            "Writing opposit_agent.py\n"
          ]
        }
      ]
    },
    {
      "cell_type": "code",
      "source": [
        "evaluate(\n",
        "    \"rps\", \n",
        "    [\"opposit_agent.py\", \"statistical\"], \n",
        "    configuration={\"episodeSteps\": 100}, \n",
        ")\n"
      ],
      "metadata": {
        "colab": {
          "base_uri": "https://localhost:8080/"
        },
        "id": "2zg8DnMmXuM2",
        "outputId": "22937671-c284-4c89-9aec-b3acc2fbdf70"
      },
      "execution_count": null,
      "outputs": [
        {
          "output_type": "execute_result",
          "data": {
            "text/plain": [
              "[[-23.0, 23.0]]"
            ]
          },
          "metadata": {},
          "execution_count": 38
        }
      ]
    },
    {
      "cell_type": "code",
      "source": [
        "%%writefile copyprevious_opponent.py\n",
        "\n",
        "import random\n",
        "\n",
        "def copyprevious_opponent(observation, configuration):\n",
        "    if observation.step > 0:\n",
        "        return (observation.lastOpponentAction + 2) % configuration.signs\n",
        "    else:\n",
        "        return random.randrange(0, configuration.signs)"
      ],
      "metadata": {
        "colab": {
          "base_uri": "https://localhost:8080/"
        },
        "id": "enVZHs7RX-2e",
        "outputId": "be87f499-71c7-4a89-e286-dee52146ad90"
      },
      "execution_count": null,
      "outputs": [
        {
          "output_type": "stream",
          "name": "stdout",
          "text": [
            "Writing copyprevious_opponent.py\n"
          ]
        }
      ]
    },
    {
      "cell_type": "code",
      "source": [
        "evaluate(\n",
        "    \"rps\", \n",
        "    [\"copyprevious_opponent.py\", \"statistical\"], \n",
        "    configuration={\"episodeSteps\": 100}, \n",
        ")"
      ],
      "metadata": {
        "colab": {
          "base_uri": "https://localhost:8080/"
        },
        "id": "fCyLHQ3xX_1g",
        "outputId": "13fc6510-9c8d-4e53-ce0b-fd10ee83f631"
      },
      "execution_count": null,
      "outputs": [
        {
          "output_type": "execute_result",
          "data": {
            "text/plain": [
              "[[-96.0, 96.0]]"
            ]
          },
          "metadata": {},
          "execution_count": 40
        }
      ]
    },
    {
      "cell_type": "code",
      "source": [
        "agents = [\n",
        "    'rock_agent.py',\n",
        "    'paper_agent.py',\n",
        "    'scissors_agent.py',\n",
        "    'step_rock.py',\n",
        "    'random_opponent.py',\n",
        "    'step_scissors.py',\n",
        "    'rand_anti_opponent.py',\n",
        "    'counter_reactionary.py',\n",
        "    'step_paper.py',\n",
        "    'copynext_opponent.py',\n",
        "    'opposit_agent.py',\n",
        "    'copyprevious_opponent.py'\n",
        "]\n",
        "agents"
      ],
      "metadata": {
        "colab": {
          "base_uri": "https://localhost:8080/"
        },
        "id": "-MaueRXOi01-",
        "outputId": "7cb4552f-1c1d-4f6d-fb23-32b8b55b0030"
      },
      "execution_count": null,
      "outputs": [
        {
          "output_type": "execute_result",
          "data": {
            "text/plain": [
              "['rock_agent.py',\n",
              " 'paper_agent.py',\n",
              " 'scissors_agent.py',\n",
              " 'step_rock.py',\n",
              " 'random_opponent.py',\n",
              " 'step_scissors.py',\n",
              " 'rand_anti_opponent.py',\n",
              " 'counter_reactionary.py',\n",
              " 'step_paper.py',\n",
              " 'copynext_opponent.py',\n",
              " 'opposit_agent.py',\n",
              " 'copyprevious_opponent.py']"
            ]
          },
          "metadata": {},
          "execution_count": 41
        }
      ]
    },
    {
      "cell_type": "code",
      "source": [
        "rank = {agent: 0 for agent in agents}\n",
        "\n",
        "for times in range(3):\n",
        "# сколько раундов сыграет каждая пара\n",
        "          \n",
        "    for i in range(len(agents)):\n",
        "        for j in range(i+1, len(agents)):\n",
        "            e = evaluate(\n",
        "            \"rps\", #environment to use - no need to change\n",
        "            [agents[i], agents[j]], #agents to evaluate\n",
        "            configuration={\"episodeSteps\": 100, 'tieRewardThreshold': 1} #number of episodes \n",
        "            )\n",
        "            if e[0][0] > e[0][1]:\n",
        "                rank[agents[i]] += 1\n",
        "            elif e[0][0] < e[0][1]:\n",
        "                rank[agents[j]] += 1\n",
        "\n"
      ],
      "metadata": {
        "id": "SeuPfb9aajja"
      },
      "execution_count": null,
      "outputs": []
    },
    {
      "cell_type": "code",
      "source": [
        "rank_se = pd.Series(rank, name=\"Выигранные партии каждым ботом - итоговый рейтинг\").sort_values(ascending=False).to_frame()\n",
        "rank_se\n"
      ],
      "metadata": {
        "colab": {
          "base_uri": "https://localhost:8080/",
          "height": 426
        },
        "id": "f8AR0SEEZML3",
        "outputId": "b1213879-21be-4ad6-d5ba-6c332cd5ce35"
      },
      "execution_count": null,
      "outputs": [
        {
          "output_type": "execute_result",
          "data": {
            "text/plain": [
              "                          Выигранные партии каждым ботом - итоговый рейтинг\n",
              "rock_agent.py                                                             3\n",
              "paper_agent.py                                                            1\n",
              "random_opponent.py                                                        1\n",
              "rand_anti_opponent.py                                                     1\n",
              "scissors_agent.py                                                         0\n",
              "step_rock.py                                                              0\n",
              "step_scissors.py                                                          0\n",
              "counter_reactionary.py                                                    0\n",
              "step_paper.py                                                             0\n",
              "copynext_opponent.py                                                      0\n",
              "opposit_agent.py                                                          0\n",
              "copyprevious_opponent.py                                                  0"
            ],
            "text/html": [
              "\n",
              "  <div id=\"df-c326fc32-571e-4456-b564-0653edc2a57c\">\n",
              "    <div class=\"colab-df-container\">\n",
              "      <div>\n",
              "<style scoped>\n",
              "    .dataframe tbody tr th:only-of-type {\n",
              "        vertical-align: middle;\n",
              "    }\n",
              "\n",
              "    .dataframe tbody tr th {\n",
              "        vertical-align: top;\n",
              "    }\n",
              "\n",
              "    .dataframe thead th {\n",
              "        text-align: right;\n",
              "    }\n",
              "</style>\n",
              "<table border=\"1\" class=\"dataframe\">\n",
              "  <thead>\n",
              "    <tr style=\"text-align: right;\">\n",
              "      <th></th>\n",
              "      <th>Выигранные партии каждым ботом - итоговый рейтинг</th>\n",
              "    </tr>\n",
              "  </thead>\n",
              "  <tbody>\n",
              "    <tr>\n",
              "      <th>rock_agent.py</th>\n",
              "      <td>3</td>\n",
              "    </tr>\n",
              "    <tr>\n",
              "      <th>paper_agent.py</th>\n",
              "      <td>1</td>\n",
              "    </tr>\n",
              "    <tr>\n",
              "      <th>random_opponent.py</th>\n",
              "      <td>1</td>\n",
              "    </tr>\n",
              "    <tr>\n",
              "      <th>rand_anti_opponent.py</th>\n",
              "      <td>1</td>\n",
              "    </tr>\n",
              "    <tr>\n",
              "      <th>scissors_agent.py</th>\n",
              "      <td>0</td>\n",
              "    </tr>\n",
              "    <tr>\n",
              "      <th>step_rock.py</th>\n",
              "      <td>0</td>\n",
              "    </tr>\n",
              "    <tr>\n",
              "      <th>step_scissors.py</th>\n",
              "      <td>0</td>\n",
              "    </tr>\n",
              "    <tr>\n",
              "      <th>counter_reactionary.py</th>\n",
              "      <td>0</td>\n",
              "    </tr>\n",
              "    <tr>\n",
              "      <th>step_paper.py</th>\n",
              "      <td>0</td>\n",
              "    </tr>\n",
              "    <tr>\n",
              "      <th>copynext_opponent.py</th>\n",
              "      <td>0</td>\n",
              "    </tr>\n",
              "    <tr>\n",
              "      <th>opposit_agent.py</th>\n",
              "      <td>0</td>\n",
              "    </tr>\n",
              "    <tr>\n",
              "      <th>copyprevious_opponent.py</th>\n",
              "      <td>0</td>\n",
              "    </tr>\n",
              "  </tbody>\n",
              "</table>\n",
              "</div>\n",
              "      <button class=\"colab-df-convert\" onclick=\"convertToInteractive('df-c326fc32-571e-4456-b564-0653edc2a57c')\"\n",
              "              title=\"Convert this dataframe to an interactive table.\"\n",
              "              style=\"display:none;\">\n",
              "        \n",
              "  <svg xmlns=\"http://www.w3.org/2000/svg\" height=\"24px\"viewBox=\"0 0 24 24\"\n",
              "       width=\"24px\">\n",
              "    <path d=\"M0 0h24v24H0V0z\" fill=\"none\"/>\n",
              "    <path d=\"M18.56 5.44l.94 2.06.94-2.06 2.06-.94-2.06-.94-.94-2.06-.94 2.06-2.06.94zm-11 1L8.5 8.5l.94-2.06 2.06-.94-2.06-.94L8.5 2.5l-.94 2.06-2.06.94zm10 10l.94 2.06.94-2.06 2.06-.94-2.06-.94-.94-2.06-.94 2.06-2.06.94z\"/><path d=\"M17.41 7.96l-1.37-1.37c-.4-.4-.92-.59-1.43-.59-.52 0-1.04.2-1.43.59L10.3 9.45l-7.72 7.72c-.78.78-.78 2.05 0 2.83L4 21.41c.39.39.9.59 1.41.59.51 0 1.02-.2 1.41-.59l7.78-7.78 2.81-2.81c.8-.78.8-2.07 0-2.86zM5.41 20L4 18.59l7.72-7.72 1.47 1.35L5.41 20z\"/>\n",
              "  </svg>\n",
              "      </button>\n",
              "      \n",
              "  <style>\n",
              "    .colab-df-container {\n",
              "      display:flex;\n",
              "      flex-wrap:wrap;\n",
              "      gap: 12px;\n",
              "    }\n",
              "\n",
              "    .colab-df-convert {\n",
              "      background-color: #E8F0FE;\n",
              "      border: none;\n",
              "      border-radius: 50%;\n",
              "      cursor: pointer;\n",
              "      display: none;\n",
              "      fill: #1967D2;\n",
              "      height: 32px;\n",
              "      padding: 0 0 0 0;\n",
              "      width: 32px;\n",
              "    }\n",
              "\n",
              "    .colab-df-convert:hover {\n",
              "      background-color: #E2EBFA;\n",
              "      box-shadow: 0px 1px 2px rgba(60, 64, 67, 0.3), 0px 1px 3px 1px rgba(60, 64, 67, 0.15);\n",
              "      fill: #174EA6;\n",
              "    }\n",
              "\n",
              "    [theme=dark] .colab-df-convert {\n",
              "      background-color: #3B4455;\n",
              "      fill: #D2E3FC;\n",
              "    }\n",
              "\n",
              "    [theme=dark] .colab-df-convert:hover {\n",
              "      background-color: #434B5C;\n",
              "      box-shadow: 0px 1px 3px 1px rgba(0, 0, 0, 0.15);\n",
              "      filter: drop-shadow(0px 1px 2px rgba(0, 0, 0, 0.3));\n",
              "      fill: #FFFFFF;\n",
              "    }\n",
              "  </style>\n",
              "\n",
              "      <script>\n",
              "        const buttonEl =\n",
              "          document.querySelector('#df-c326fc32-571e-4456-b564-0653edc2a57c button.colab-df-convert');\n",
              "        buttonEl.style.display =\n",
              "          google.colab.kernel.accessAllowed ? 'block' : 'none';\n",
              "\n",
              "        async function convertToInteractive(key) {\n",
              "          const element = document.querySelector('#df-c326fc32-571e-4456-b564-0653edc2a57c');\n",
              "          const dataTable =\n",
              "            await google.colab.kernel.invokeFunction('convertToInteractive',\n",
              "                                                     [key], {});\n",
              "          if (!dataTable) return;\n",
              "\n",
              "          const docLinkHtml = 'Like what you see? Visit the ' +\n",
              "            '<a target=\"_blank\" href=https://colab.research.google.com/notebooks/data_table.ipynb>data table notebook</a>'\n",
              "            + ' to learn more about interactive tables.';\n",
              "          element.innerHTML = '';\n",
              "          dataTable['output_type'] = 'display_data';\n",
              "          await google.colab.output.renderOutput(dataTable, element);\n",
              "          const docLink = document.createElement('div');\n",
              "          docLink.innerHTML = docLinkHtml;\n",
              "          element.appendChild(docLink);\n",
              "        }\n",
              "      </script>\n",
              "    </div>\n",
              "  </div>\n",
              "  "
            ]
          },
          "metadata": {},
          "execution_count": 43
        }
      ]
    }
  ]
}